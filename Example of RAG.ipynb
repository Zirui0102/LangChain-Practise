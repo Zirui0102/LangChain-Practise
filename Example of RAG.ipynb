{
 "cells": [
  {
   "cell_type": "code",
   "execution_count": 8,
   "id": "c6587b74-b60a-475d-8d6a-5638ef471b21",
   "metadata": {},
   "outputs": [
    {
     "name": "stdout",
     "output_type": "stream",
     "text": [
      "page_content='Methanol products are transported through 300 km of highway\\ntransport. Unlike the CTM process, 9425.96 kg of CH 4is obtained\\nfrom the top of the methanol predistillation column together withother light components.\\n4. LCA results\\n4.1. Evaluation and interpretation\\nFrom the input and output data listed in Table 4 , using GaBi 9.2\\nsoftware, CTM and BTM processes are analyzed via LCA. The LCAresults for the CTM and BTM processes are listed in Table S2 .I t\\nshould be noted that steam and other byproducts generated\\nthrough the process are not re ﬂected in the results.\\nLCEC results are shown in Fig. 3 . In comparing the two pro-\\ncesses, we ﬁnd that under the same production capacity, the LCEC\\nof the CTM process is 1,413,779 MJ, and that of the BTM process is\\n1150620 MJ. The BTM system offers energy consumption advan-\\ntages primarily in S1 while both systems consume similar levels of\\nenergy in the other stages. The LCEC of the CTM system in S1 is 3.04\\ntimes that of the BTM system, as coal mining and processing is\\nmore energy intensive. While to achieve the same level of methanol\\nproduction, biomass used must be of higher quality than that of\\ncoal, but biomass production, collection and processing are rela-\\ntively simple and less energy intensive than coal mining and pro-\\ncessing. On the other hand, more human factors are involved in\\nbiomass production than in coal mining. This facet of energy con-\\nsumption is not considered, partly affecting our results. As more\\ntransportation units are needed to transport biomass, more energy\\nis required to transport biomass than coal. From our analysis of each\\nprocess, S4 consumes the most energy during methanol produc-\\ntion, accounting for 34.2% of energy consumed in the CTM process\\nand 42.5% of energy consumed in the BTM process. Therefore, it is\\nnecessary to carry out relevant research to reduce energy con-\\nsumption during methanol production and puri ﬁcation.\\nAs shown in Fig. 4 , the total GWP value of the BTM process is\\nnegative, showing that the BTM process produces negative GHG\\nemissions through its life cycle. This is to a great extent re ﬂects the\\nenvironmental advantages of the BTM processes. During the\\ngrowth of crops, CO\\n2in the atmosphere is ﬁxed. Most carbon atoms\\nin the biomass are transferred to the produced methanol, and some\\nare discharged in the form of emissions. Throughout this process,Table 4\\nInput and output data of each unit of the CTM and BTM processes.\\nCTM BTM\\nInput Output Input Output\\nS1 Coal mining/Straw production and processing\\nRaw coal\\nFuel coalNatural gasDieselGasolineElectricity133.4 t\\n9004.56 kg86.34 m\\n3\\n72.08 kg66.54 kWh8533.29 kWhCoal\\nCoal cinder\\na120.5 t12.9 tCO\\n2\\nDiesel\\nGasolineElectricityFertilizerLand44.64 t\\n563.42 kg250.4 kg31.3 kWh1.76 t82871 m\\n3Straw 137.6 t\\nTransportation\\nHighway\\nRailway100 km\\n500 kmCoal 120.5 t Highway\\nRailway100 km\\n500 kmStraw 137.6t\\nS2 Pretreatment\\nElectricityFuel gasSteam3583.46 kWh\\n22495.64 MJ549.86 MJCoal\\nAsh\\na120.4 t321.59 kgElectricity 5276.59 kWh Straw\\nAsh\\na137.6 t162.77 kg\\nGasiﬁcation\\nO\\n2\\nElectricity105.8t\\n3237.14 kWhCrude syngas\\nSteam\\nAsha431.06 t\\n189.01 t\\n12.24 tO2\\nElectricity96.05 t\\n6777.95 kWhCrude syngas\\nSteam\\nAsha\\nTara417.63 t\\n132.13 t\\n3.7 t1.33 t\\nS3 WGSþAGR\\nN\\n2\\nElectricitySteam45.36 t\\n716.62 kWh231463.2 MJSyngas\\nH\\n2S\\nCO2a\\nN2a93.13 t\\n729.17 kg169.12 t45.36 tN\\n2\\nElectricity\\nSteam24.21 t\\n386.97 kWh134248.7 MJsyngas\\nH\\n2S\\nCO2a\\nN2a101.8 t\\n52.88 kg92.24 t24.21 t\\nS4 Methanol synthesis and puri ﬁcation\\nElectricitySteam782.79 kWh\\n430773 MJMethanol\\nCO\\n2a\\nCOa\\nVOCa\\nWaste watera78.98 t\\n296.13 kg45.64 kg534.04 kg5004 kgElectricity\\nSteam782.79 kWh\\n436053 MJMethanol\\nCH4CO\\n2a\\nCOa\\nVOCa\\nWaste watera79.08 t\\n9425.96 kg262.68 kg49 kg780.36 kg5210 kg\\nasubstances discharged out of the system.\\nFig. 3. LCEC in the CTM and BTM processes.Y. Liu et al. / Energy 204 (2020) 117961 6' metadata={'source': 'C:/Users/89751/OneDrive/Desktop/test.pdf', 'page': 5}\n"
     ]
    }
   ],
   "source": [
    "#PDF document loader\n",
    "from langchain_community.document_loaders import PyPDFLoader\n",
    "\n",
    "loader = PyPDFLoader(\"C:/Users/89751/OneDrive/Desktop/test.pdf\")  \n",
    "\n",
    "data = loader.load()  # Load the document\n",
    "message = data[5]\n",
    "print(message)  # Print the first document"
   ]
  },
  {
   "cell_type": "code",
   "execution_count": 9,
   "id": "b30c8ec5",
   "metadata": {},
   "outputs": [],
   "source": [
    "import os"
   ]
  },
  {
   "cell_type": "code",
   "execution_count": 10,
   "id": "f32912a9-6ad9-4d50-8849-cc8102d3c37a",
   "metadata": {},
   "outputs": [],
   "source": [
    "from langchain_openai import ChatOpenAI\n",
    "from langchain_core.prompts import ChatPromptTemplate"
   ]
  },
  {
   "cell_type": "code",
   "execution_count": 11,
   "id": "752a95cd-8c63-48f2-8705-6eb68d781275",
   "metadata": {},
   "outputs": [
    {
     "name": "stderr",
     "output_type": "stream",
     "text": [
      "D:\\Software\\Anaconda\\envs\\LCI-extraction\\Lib\\site-packages\\langchain_core\\_api\\deprecation.py:139: LangChainDeprecationWarning: The method `BaseChatModel.__call__` was deprecated in langchain-core 0.1.7 and will be removed in 0.3.0. Use invoke instead.\n",
      "  warn_deprecated(\n"
     ]
    },
    {
     "data": {
      "text/plain": [
       "AIMessage(content='****Table 4\\\\nInput and output data of each unit of the CTM and BTM processes.\\\\nCTM BTM\\\\nInput Output Input Output\\\\nS1 Coal mining/Straw production and processing\\\\nRaw coal\\\\nFuel coalNatural gasDieselGasolineElectricity133.4 t\\\\n9004.56 kg86.34 m\\\\n3\\\\n72.08 kg66.54 kWh8533.29 kWhCoal\\\\nCoal cinder\\\\na120.5 t12.9 tCO\\\\n2\\\\nDiesel\\\\nGasolineElectricityFertilizerLand44.64 t\\\\n563.42 kg250.4 kg31.3 kWh1.76 t82871 m\\\\n3Straw 137.6 t\\\\nTransportation\\\\nHighway\\\\nRailway100 km\\\\n500 kmCoal 120.5 t Highway\\\\nRailway100 km\\\\n500 kmStraw 137.6t\\\\nS2 Pretreatment\\\\nElectricityFuel gasSteam3583.46 kWh\\\\n22495.64 MJ549.86 MJCoal\\\\nAsh\\\\na120.4 t321.59 kgElectricity 5276.59 kWh Straw\\\\nAsh\\\\na137.6 t162.77 kg\\\\nGasiﬁcation\\\\nO\\\\n2\\\\nElectricity105.8t\\\\n3237.14 kWhCrude syngas\\\\nSteam\\\\nAsha431.06 t\\\\n189.01 t\\\\n12.24 tO2\\\\nElectricity96.05 t\\\\n6777.95 kWhCrude syngas\\\\nSteam\\\\nAsha\\\\nTara417.63 t\\\\n132.13 t\\\\n3.7 t1.33 t\\\\nS3 WGSþAGR\\\\nN\\\\n2\\\\nElectricitySteam45.36 t\\\\n716.62 kWh231463.2 MJSyngas\\\\nH\\\\n2S\\\\nCO2a\\\\nN2a93.13 t\\\\n729.17 kg169.12 t45.36 tN\\\\n2\\\\nElectricity\\\\nSteam24.21 t\\\\n386.97 kWh134248.7 MJsyngas\\\\nH\\\\n2S\\\\nCO2a\\\\nN2a101.8 t\\\\n52.88 kg92.24 t24.21 t\\\\nS4 Methanol synthesis and puri ﬁcation\\\\nElectricitySteam782.79 kWh\\\\n430773 MJMethanol\\\\nCO\\\\n2a\\\\nCOa\\\\nVOCa\\\\nWaste watera78.98 t\\\\n296.13 kg45.64 kg534.04 kg5004 kgElectricity\\\\nSteam782.79 kWh\\\\n436053 MJMethanol\\\\nCH4CO\\\\n2a\\\\nCOa\\\\nVOCa\\\\nWaste watera79.08 t\\\\n9425.96 kg262.68 kg49 kg780.36 kg5210 kg\\\\nasubstances discharged out of the system.\\\\n****', response_metadata={'token_usage': {'completion_tokens': 590, 'prompt_tokens': 1284, 'total_tokens': 1874}, 'model_name': 'gpt-3.5-turbo-0125', 'system_fingerprint': None, 'finish_reason': 'stop', 'logprobs': None}, id='run-729e2885-7200-4ddd-94e5-e8baab6f6521-0', usage_metadata={'input_tokens': 1284, 'output_tokens': 590, 'total_tokens': 1874})"
      ]
     },
     "execution_count": 11,
     "metadata": {},
     "output_type": "execute_result"
    }
   ],
   "source": [
    "# Set your API Key from OpenAI\n",
    "openai_api_key= os.environ.get(\"OPENAI_API_KEY\")\n",
    "\n",
    "# Define an OpenAI chat model\n",
    "llm = ChatOpenAI(temperature=0, openai_api_key=openai_api_key)\t\t\n",
    "\n",
    "# Create a chat prompt template\n",
    "prompt_template = ChatPromptTemplate.from_messages(\n",
    "    [\n",
    "        (\"system\", \"You are a helpful assistant.\"),\n",
    "        (\"human\", \"Respond to question: {question}\")\n",
    "    ]\n",
    ")\n",
    "\n",
    "# Insert a question into the template and call the model\n",
    "table_number = 4\n",
    "message_text = message\n",
    "\n",
    "full_prompt = prompt_template.format_messages(question=f'Extract the table [{table_number}] from: {message_text}. Add **** at the begin and end of the extracted data')\n",
    "response = llm(full_prompt)\n",
    "response"
   ]
  },
  {
   "cell_type": "code",
   "execution_count": 10,
   "id": "f689e880-b47f-47e4-8182-47ea40809974",
   "metadata": {},
   "outputs": [],
   "source": [
    "text = response.content"
   ]
  },
  {
   "cell_type": "code",
   "execution_count": 11,
   "id": "86b43ca3-307a-4959-89d9-d6d8bcce4c71",
   "metadata": {},
   "outputs": [
    {
     "data": {
      "text/plain": [
       "'****Table 4\\nInput and output data of each unit of the CTM and BTM processes.\\nCTM BTM\\nInput Output Input Output\\nS1 Coal mining/Straw production and processing\\nRaw coal\\nFuel coalNatural gasDieselGasolineElectricity133.4 t\\n9004.56 kg86.34 m\\n3\\n72.08 kg66.54 kWh8533.29 kWhCoal\\nCoal cinder\\na120.5 t12.9 tCO\\n2\\nDiesel\\nGasolineElectricityFertilizerLand44.64 t\\n563.42 kg250.4 kg31.3 kWh1.76 t82871 m\\n3Straw 137.6 t\\nTransportation\\nHighway\\nRailway100 km\\n500 kmCoal 120.5 t Highway\\nRailway100 km\\n500 kmStraw 137.6t\\nS2 Pretreatment\\nElectricityFuel gasSteam3583.46 kWh\\n22495.64 MJ549.86 MJCoal\\nAsh\\na120.4 t321.59 kgElectricity 5276.59 kWh Straw\\nAsh\\na137.6 t162.77 kg\\nGasiﬁcation\\nO\\n2\\nElectricity105.8t\\n3237.14 kWhCrude syngas\\nSteam\\nAsha431.06 t\\n189.01 t\\n12.24 tO2\\nElectricity96.05 t\\n6777.95 kWhCrude syngas\\nSteam\\nAsha\\nTara417.63 t\\n132.13 t\\n3.7 t1.33 t\\nS3 WGSþAGR\\nN\\n2\\nElectricitySteam45.36 t\\n716.62 kWh231463.2 MJSyngas\\nH\\n2S\\nCO2a\\nN2a93.13 t\\n729.17 kg169.12 t45.36 tN\\n2\\nElectricity\\nSteam24.21 t\\n386.97 kWh134248.7 MJsyngas\\nH\\n2S\\nCO2a\\nN2a101.8 t\\n52.88 kg92.24 t24.21 t\\nS4 Methanol synthesis and puri ﬁcation\\nElectricitySteam782.79 kWh\\n430773 MJMethanol\\nCO\\n2a\\nCOa\\nVOCa\\nWaste watera78.98 t\\n296.13 kg45.64 kg534.04 kg5004 kgElectricity\\nSteam782.79 kWh\\n436053 MJMethanol\\nCH4CO\\n2a\\nCOa\\nVOCa\\nWaste watera79.08 t\\n9425.96 kg262.68 kg49 kg780.36 kg5210 kg\\nasubstances discharged out of the system.\\nFig. 3. LCEC in the CTM and BTM processes.\\nY. Liu et al. / Energy 204 (2020) 117961 6\\n****'"
      ]
     },
     "execution_count": 11,
     "metadata": {},
     "output_type": "execute_result"
    }
   ],
   "source": [
    "text"
   ]
  },
  {
   "cell_type": "code",
   "execution_count": 12,
   "id": "be8681b4-b734-44b8-a15d-7931fcece587",
   "metadata": {},
   "outputs": [],
   "source": [
    "import re"
   ]
  },
  {
   "cell_type": "code",
   "execution_count": 13,
   "id": "b2fded4a-504a-4966-899d-bcc0581cbc6e",
   "metadata": {},
   "outputs": [
    {
     "data": {
      "text/plain": [
       "'****Table 4\\nInput and output data of each unit of the CTM and BTM processes.\\nCTM BTM\\nInput Output Input Output\\nS1 Coal mining/Straw production and processing\\nRaw coal\\nFuel coalNatural gasDieselGasolineElectricity133.4 t\\n9004.56 kg86.34 m\\n3\\n72.08 kg66.54 kWh8533.29 kWhCoal\\nCoal cinder\\na120.5 t12.9 tCO\\n2\\nDiesel\\nGasolineElectricityFertilizerLand44.64 t\\n563.42 kg250.4 kg31.3 kWh1.76 t82871 m\\n3Straw 137.6 t\\nTransportation\\nHighway\\nRailway100 km\\n500 kmCoal 120.5 t Highway\\nRailway100 km\\n500 kmStraw 137.6t\\nS2 Pretreatment\\nElectricityFuel gasSteam3583.46 kWh\\n22495.64 MJ549.86 MJCoal\\nAsh\\na120.4 t321.59 kgElectricity 5276.59 kWh Straw\\nAsh\\na137.6 t162.77 kg\\nGasiﬁcation\\nO\\n2\\nElectricity105.8t\\n3237.14 kWhCrude syngas\\nSteam\\nAsha431.06 t\\n189.01 t\\n12.24 tO2\\nElectricity96.05 t\\n6777.95 kWhCrude syngas\\nSteam\\nAsha\\nTara417.63 t\\n132.13 t\\n3.7 t1.33 t\\nS3 WGSþAGR\\nN\\n2\\nElectricitySteam45.36 t\\n716.62 kWh231463.2 MJSyngas\\nH\\n2S\\nCO2a\\nN2a93.13 t\\n729.17 kg169.12 t45.36 tN\\n2\\nElectricity\\nSteam24.21 t\\n386.97 kWh134248.7 MJsyngas\\nH\\n2S\\nCO2a\\nN2a101.8 t\\n52.88 kg92.24 t24.21 t\\nS4 Methanol synthesis and puri ﬁcation\\nElectricitySteam782.79 kWh\\n430773 MJMethanol\\nCO\\n2a\\nCOa\\nVOCa\\nWaste watera78.98 t\\n296.13 kg45.64 kg534.04 kg5004 kgElectricity\\nSteam782.79 kWh\\n436053 MJMethanol\\nCH4CO\\n2a\\nCOa\\nVOCa\\nWaste watera79.08 t\\n9425.96 kg262.68 kg49 kg780.36 kg5210 kg\\nasubstances discharged out of the system.\\nFig. 3. LCEC in the CTM and BTM processes.\\nY. Liu et al. / Energy 204 (2020) 117961 6\\n****'"
      ]
     },
     "execution_count": 13,
     "metadata": {},
     "output_type": "execute_result"
    }
   ],
   "source": [
    "text"
   ]
  },
  {
   "cell_type": "code",
   "execution_count": 14,
   "id": "39b149bf-8e6c-4ac1-b733-d634c0878f5f",
   "metadata": {},
   "outputs": [
    {
     "name": "stdout",
     "output_type": "stream",
     "text": [
      "Table 4\n",
      "Input and output data of each unit of the CTM and BTM processes.\n",
      "CTM BTM\n",
      "Input Output Input Output\n",
      "S1 Coal mining/Straw production and processing\n",
      "Raw coal\n",
      "Fuel coalNatural gasDieselGasolineElectricity133.4 t\n",
      "9004.56 kg86.34 m\n",
      "3\n",
      "72.08 kg66.54 kWh8533.29 kWhCoal\n",
      "Coal cinder\n",
      "a120.5 t12.9 tCO\n",
      "2\n",
      "Diesel\n",
      "GasolineElectricityFertilizerLand44.64 t\n",
      "563.42 kg250.4 kg31.3 kWh1.76 t82871 m\n",
      "3Straw 137.6 t\n",
      "Transportation\n",
      "Highway\n",
      "Railway100 km\n",
      "500 kmCoal 120.5 t Highway\n",
      "Railway100 km\n",
      "500 kmStraw 137.6t\n",
      "S2 Pretreatment\n",
      "ElectricityFuel gasSteam3583.46 kWh\n",
      "22495.64 MJ549.86 MJCoal\n",
      "Ash\n",
      "a120.4 t321.59 kgElectricity 5276.59 kWh Straw\n",
      "Ash\n",
      "a137.6 t162.77 kg\n",
      "Gasiﬁcation\n",
      "O\n",
      "2\n",
      "Electricity105.8t\n",
      "3237.14 kWhCrude syngas\n",
      "Steam\n",
      "Asha431.06 t\n",
      "189.01 t\n",
      "12.24 tO2\n",
      "Electricity96.05 t\n",
      "6777.95 kWhCrude syngas\n",
      "Steam\n",
      "Asha\n",
      "Tara417.63 t\n",
      "132.13 t\n",
      "3.7 t1.33 t\n",
      "S3 WGSþAGR\n",
      "N\n",
      "2\n",
      "ElectricitySteam45.36 t\n",
      "716.62 kWh231463.2 MJSyngas\n",
      "H\n",
      "2S\n",
      "CO2a\n",
      "N2a93.13 t\n",
      "729.17 kg169.12 t45.36 tN\n",
      "2\n",
      "Electricity\n",
      "Steam24.21 t\n",
      "386.97 kWh134248.7 MJsyngas\n",
      "H\n",
      "2S\n",
      "CO2a\n",
      "N2a101.8 t\n",
      "52.88 kg92.24 t24.21 t\n",
      "S4 Methanol synthesis and puri ﬁcation\n",
      "ElectricitySteam782.79 kWh\n",
      "430773 MJMethanol\n",
      "CO\n",
      "2a\n",
      "COa\n",
      "VOCa\n",
      "Waste watera78.98 t\n",
      "296.13 kg45.64 kg534.04 kg5004 kgElectricity\n",
      "Steam782.79 kWh\n",
      "436053 MJMethanol\n",
      "CH4CO\n",
      "2a\n",
      "COa\n",
      "VOCa\n",
      "Waste watera79.08 t\n",
      "9425.96 kg262.68 kg49 kg780.36 kg5210 kg\n",
      "asubstances discharged out of the system.\n",
      "Fig. 3. LCEC in the CTM and BTM processes.\n",
      "Y. Liu et al. / Energy 204 (2020) 117961 6\n"
     ]
    }
   ],
   "source": [
    "pattern = r'\\*\\*\\*\\*(.*?)\\*\\*\\*\\*'\n",
    "result = re.search(pattern, text, re.DOTALL)\n",
    "\n",
    "if result:\n",
    "    extracted_text = result.group(1).strip()\n",
    "    print(extracted_text)\n",
    "else:\n",
    "    print(\"No text found between the markers\")"
   ]
  }
 ],
 "metadata": {
  "kernelspec": {
   "display_name": "Python 3 (ipykernel)",
   "language": "python",
   "name": "python3"
  },
  "language_info": {
   "codemirror_mode": {
    "name": "ipython",
    "version": 3
   },
   "file_extension": ".py",
   "mimetype": "text/x-python",
   "name": "python",
   "nbconvert_exporter": "python",
   "pygments_lexer": "ipython3",
   "version": "3.12.3"
  }
 },
 "nbformat": 4,
 "nbformat_minor": 5
}
