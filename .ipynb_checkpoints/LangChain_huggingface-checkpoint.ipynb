{
 "cells": [
  {
   "cell_type": "code",
   "execution_count": 5,
   "id": "28841222-f722-4e34-949f-e7fde3abc33a",
   "metadata": {},
   "outputs": [
    {
     "name": "stdout",
     "output_type": "stream",
     "text": [
      "Collecting transformers\n",
      "  Using cached transformers-4.41.2-py3-none-any.whl.metadata (43 kB)\n",
      "Collecting filelock (from transformers)\n",
      "  Using cached filelock-3.15.1-py3-none-any.whl.metadata (2.8 kB)\n",
      "Collecting huggingface-hub<1.0,>=0.23.0 (from transformers)\n",
      "  Using cached huggingface_hub-0.23.4-py3-none-any.whl.metadata (12 kB)\n",
      "Requirement already satisfied: numpy>=1.17 in c:\\software\\anaconda\\envs\\langchain\\lib\\site-packages (from transformers) (1.26.4)\n",
      "Requirement already satisfied: packaging>=20.0 in c:\\software\\anaconda\\envs\\langchain\\lib\\site-packages (from transformers) (24.1)\n",
      "Requirement already satisfied: pyyaml>=5.1 in c:\\software\\anaconda\\envs\\langchain\\lib\\site-packages (from transformers) (6.0.1)\n",
      "Requirement already satisfied: regex!=2019.12.17 in c:\\software\\anaconda\\envs\\langchain\\lib\\site-packages (from transformers) (2024.5.15)\n",
      "Requirement already satisfied: requests in c:\\software\\anaconda\\envs\\langchain\\lib\\site-packages (from transformers) (2.32.3)\n",
      "Collecting tokenizers<0.20,>=0.19 (from transformers)\n",
      "  Using cached tokenizers-0.19.1-cp312-none-win_amd64.whl.metadata (6.9 kB)\n",
      "Requirement already satisfied: safetensors>=0.4.1 in c:\\software\\anaconda\\envs\\langchain\\lib\\site-packages (from transformers) (0.4.3)\n",
      "Requirement already satisfied: tqdm>=4.27 in c:\\software\\anaconda\\envs\\langchain\\lib\\site-packages (from transformers) (4.66.4)\n",
      "Requirement already satisfied: fsspec>=2023.5.0 in c:\\software\\anaconda\\envs\\langchain\\lib\\site-packages (from huggingface-hub<1.0,>=0.23.0->transformers) (2024.6.0)\n",
      "Requirement already satisfied: typing-extensions>=3.7.4.3 in c:\\software\\anaconda\\envs\\langchain\\lib\\site-packages (from huggingface-hub<1.0,>=0.23.0->transformers) (4.12.2)\n",
      "Requirement already satisfied: colorama in c:\\software\\anaconda\\envs\\langchain\\lib\\site-packages (from tqdm>=4.27->transformers) (0.4.6)\n",
      "Requirement already satisfied: charset-normalizer<4,>=2 in c:\\software\\anaconda\\envs\\langchain\\lib\\site-packages (from requests->transformers) (3.3.2)\n",
      "Requirement already satisfied: idna<4,>=2.5 in c:\\software\\anaconda\\envs\\langchain\\lib\\site-packages (from requests->transformers) (3.7)\n",
      "Requirement already satisfied: urllib3<3,>=1.21.1 in c:\\software\\anaconda\\envs\\langchain\\lib\\site-packages (from requests->transformers) (2.2.2)\n",
      "Requirement already satisfied: certifi>=2017.4.17 in c:\\software\\anaconda\\envs\\langchain\\lib\\site-packages (from requests->transformers) (2024.6.2)\n",
      "Using cached transformers-4.41.2-py3-none-any.whl (9.1 MB)\n",
      "Using cached huggingface_hub-0.23.4-py3-none-any.whl (402 kB)\n",
      "Using cached tokenizers-0.19.1-cp312-none-win_amd64.whl (2.2 MB)\n",
      "Using cached filelock-3.15.1-py3-none-any.whl (15 kB)\n",
      "Installing collected packages: filelock, huggingface-hub, tokenizers, transformers\n",
      "Successfully installed filelock-3.15.1 huggingface-hub-0.23.4 tokenizers-0.19.1 transformers-4.41.2\n",
      "Note: you may need to restart the kernel to use updated packages.\n"
     ]
    }
   ],
   "source": [
    "pip install transformers"
   ]
  },
  {
   "cell_type": "code",
   "execution_count": 8,
   "id": "f72315d5-e866-4ae1-8575-bfb4626dbdd5",
   "metadata": {},
   "outputs": [
    {
     "name": "stdout",
     "output_type": "stream",
     "text": [
      "Requirement already satisfied: langchain_huggingface in c:\\software\\anaconda\\envs\\langchain\\lib\\site-packages (0.0.3)\n",
      "Requirement already satisfied: huggingface-hub>=0.23.0 in c:\\software\\anaconda\\envs\\langchain\\lib\\site-packages (from langchain_huggingface) (0.23.4)\n",
      "Requirement already satisfied: langchain-core<0.3,>=0.1.52 in c:\\software\\anaconda\\envs\\langchain\\lib\\site-packages (from langchain_huggingface) (0.2.9)\n",
      "Requirement already satisfied: sentence-transformers>=2.6.0 in c:\\software\\anaconda\\envs\\langchain\\lib\\site-packages (from langchain_huggingface) (3.0.1)\n",
      "Requirement already satisfied: tokenizers>=0.19.1 in c:\\software\\anaconda\\envs\\langchain\\lib\\site-packages (from langchain_huggingface) (0.19.1)\n",
      "Requirement already satisfied: transformers>=4.39.0 in c:\\software\\anaconda\\envs\\langchain\\lib\\site-packages (from langchain_huggingface) (4.41.2)\n",
      "Requirement already satisfied: filelock in c:\\software\\anaconda\\envs\\langchain\\lib\\site-packages (from huggingface-hub>=0.23.0->langchain_huggingface) (3.15.1)\n",
      "Requirement already satisfied: fsspec>=2023.5.0 in c:\\software\\anaconda\\envs\\langchain\\lib\\site-packages (from huggingface-hub>=0.23.0->langchain_huggingface) (2024.6.0)\n",
      "Requirement already satisfied: packaging>=20.9 in c:\\software\\anaconda\\envs\\langchain\\lib\\site-packages (from huggingface-hub>=0.23.0->langchain_huggingface) (24.1)\n",
      "Requirement already satisfied: pyyaml>=5.1 in c:\\software\\anaconda\\envs\\langchain\\lib\\site-packages (from huggingface-hub>=0.23.0->langchain_huggingface) (6.0.1)\n",
      "Requirement already satisfied: requests in c:\\software\\anaconda\\envs\\langchain\\lib\\site-packages (from huggingface-hub>=0.23.0->langchain_huggingface) (2.32.3)\n",
      "Requirement already satisfied: tqdm>=4.42.1 in c:\\software\\anaconda\\envs\\langchain\\lib\\site-packages (from huggingface-hub>=0.23.0->langchain_huggingface) (4.66.4)\n",
      "Requirement already satisfied: typing-extensions>=3.7.4.3 in c:\\software\\anaconda\\envs\\langchain\\lib\\site-packages (from huggingface-hub>=0.23.0->langchain_huggingface) (4.12.2)\n",
      "Requirement already satisfied: jsonpatch<2.0,>=1.33 in c:\\software\\anaconda\\envs\\langchain\\lib\\site-packages (from langchain-core<0.3,>=0.1.52->langchain_huggingface) (1.33)\n",
      "Requirement already satisfied: langsmith<0.2.0,>=0.1.75 in c:\\software\\anaconda\\envs\\langchain\\lib\\site-packages (from langchain-core<0.3,>=0.1.52->langchain_huggingface) (0.1.80)\n",
      "Requirement already satisfied: pydantic<3.0.0,>=2.7.4 in c:\\software\\anaconda\\envs\\langchain\\lib\\site-packages (from langchain-core<0.3,>=0.1.52->langchain_huggingface) (2.7.4)\n",
      "Requirement already satisfied: tenacity!=8.4.0,<9.0.0,>=8.1.0 in c:\\software\\anaconda\\envs\\langchain\\lib\\site-packages (from langchain-core<0.3,>=0.1.52->langchain_huggingface) (8.4.1)\n",
      "Requirement already satisfied: torch>=1.11.0 in c:\\software\\anaconda\\envs\\langchain\\lib\\site-packages (from sentence-transformers>=2.6.0->langchain_huggingface) (2.3.1)\n",
      "Requirement already satisfied: numpy in c:\\software\\anaconda\\envs\\langchain\\lib\\site-packages (from sentence-transformers>=2.6.0->langchain_huggingface) (1.26.4)\n",
      "Requirement already satisfied: scikit-learn in c:\\software\\anaconda\\envs\\langchain\\lib\\site-packages (from sentence-transformers>=2.6.0->langchain_huggingface) (1.5.0)\n",
      "Requirement already satisfied: scipy in c:\\software\\anaconda\\envs\\langchain\\lib\\site-packages (from sentence-transformers>=2.6.0->langchain_huggingface) (1.13.1)\n",
      "Requirement already satisfied: Pillow in c:\\software\\anaconda\\envs\\langchain\\lib\\site-packages (from sentence-transformers>=2.6.0->langchain_huggingface) (10.3.0)\n",
      "Requirement already satisfied: regex!=2019.12.17 in c:\\software\\anaconda\\envs\\langchain\\lib\\site-packages (from transformers>=4.39.0->langchain_huggingface) (2024.5.15)\n",
      "Requirement already satisfied: safetensors>=0.4.1 in c:\\software\\anaconda\\envs\\langchain\\lib\\site-packages (from transformers>=4.39.0->langchain_huggingface) (0.4.3)\n",
      "Requirement already satisfied: jsonpointer>=1.9 in c:\\software\\anaconda\\envs\\langchain\\lib\\site-packages (from jsonpatch<2.0,>=1.33->langchain-core<0.3,>=0.1.52->langchain_huggingface) (3.0.0)\n",
      "Requirement already satisfied: orjson<4.0.0,>=3.9.14 in c:\\software\\anaconda\\envs\\langchain\\lib\\site-packages (from langsmith<0.2.0,>=0.1.75->langchain-core<0.3,>=0.1.52->langchain_huggingface) (3.10.5)\n",
      "Requirement already satisfied: annotated-types>=0.4.0 in c:\\software\\anaconda\\envs\\langchain\\lib\\site-packages (from pydantic<3.0.0,>=2.7.4->langchain-core<0.3,>=0.1.52->langchain_huggingface) (0.7.0)\n",
      "Requirement already satisfied: pydantic-core==2.18.4 in c:\\software\\anaconda\\envs\\langchain\\lib\\site-packages (from pydantic<3.0.0,>=2.7.4->langchain-core<0.3,>=0.1.52->langchain_huggingface) (2.18.4)\n",
      "Requirement already satisfied: charset-normalizer<4,>=2 in c:\\software\\anaconda\\envs\\langchain\\lib\\site-packages (from requests->huggingface-hub>=0.23.0->langchain_huggingface) (3.3.2)\n",
      "Requirement already satisfied: idna<4,>=2.5 in c:\\software\\anaconda\\envs\\langchain\\lib\\site-packages (from requests->huggingface-hub>=0.23.0->langchain_huggingface) (3.7)\n",
      "Requirement already satisfied: urllib3<3,>=1.21.1 in c:\\software\\anaconda\\envs\\langchain\\lib\\site-packages (from requests->huggingface-hub>=0.23.0->langchain_huggingface) (2.2.2)\n",
      "Requirement already satisfied: certifi>=2017.4.17 in c:\\software\\anaconda\\envs\\langchain\\lib\\site-packages (from requests->huggingface-hub>=0.23.0->langchain_huggingface) (2024.6.2)\n",
      "Requirement already satisfied: sympy in c:\\software\\anaconda\\envs\\langchain\\lib\\site-packages (from torch>=1.11.0->sentence-transformers>=2.6.0->langchain_huggingface) (1.12.1)\n",
      "Requirement already satisfied: networkx in c:\\software\\anaconda\\envs\\langchain\\lib\\site-packages (from torch>=1.11.0->sentence-transformers>=2.6.0->langchain_huggingface) (3.3)\n",
      "Requirement already satisfied: jinja2 in c:\\software\\anaconda\\envs\\langchain\\lib\\site-packages (from torch>=1.11.0->sentence-transformers>=2.6.0->langchain_huggingface) (3.1.4)\n",
      "Requirement already satisfied: mkl<=2021.4.0,>=2021.1.1 in c:\\software\\anaconda\\envs\\langchain\\lib\\site-packages (from torch>=1.11.0->sentence-transformers>=2.6.0->langchain_huggingface) (2021.4.0)\n",
      "Requirement already satisfied: colorama in c:\\software\\anaconda\\envs\\langchain\\lib\\site-packages (from tqdm>=4.42.1->huggingface-hub>=0.23.0->langchain_huggingface) (0.4.6)\n",
      "Requirement already satisfied: joblib>=1.2.0 in c:\\software\\anaconda\\envs\\langchain\\lib\\site-packages (from scikit-learn->sentence-transformers>=2.6.0->langchain_huggingface) (1.4.2)\n",
      "Requirement already satisfied: threadpoolctl>=3.1.0 in c:\\software\\anaconda\\envs\\langchain\\lib\\site-packages (from scikit-learn->sentence-transformers>=2.6.0->langchain_huggingface) (3.5.0)\n",
      "Requirement already satisfied: intel-openmp==2021.* in c:\\software\\anaconda\\envs\\langchain\\lib\\site-packages (from mkl<=2021.4.0,>=2021.1.1->torch>=1.11.0->sentence-transformers>=2.6.0->langchain_huggingface) (2021.4.0)\n",
      "Requirement already satisfied: tbb==2021.* in c:\\software\\anaconda\\envs\\langchain\\lib\\site-packages (from mkl<=2021.4.0,>=2021.1.1->torch>=1.11.0->sentence-transformers>=2.6.0->langchain_huggingface) (2021.12.0)\n",
      "Requirement already satisfied: MarkupSafe>=2.0 in c:\\software\\anaconda\\envs\\langchain\\lib\\site-packages (from jinja2->torch>=1.11.0->sentence-transformers>=2.6.0->langchain_huggingface) (2.1.5)\n",
      "Requirement already satisfied: mpmath<1.4.0,>=1.1.0 in c:\\software\\anaconda\\envs\\langchain\\lib\\site-packages (from sympy->torch>=1.11.0->sentence-transformers>=2.6.0->langchain_huggingface) (1.3.0)\n",
      "Note: you may need to restart the kernel to use updated packages.\n"
     ]
    }
   ],
   "source": [
    "pip install langchain_huggingface"
   ]
  },
  {
   "cell_type": "code",
   "execution_count": 7,
   "id": "d26608c3-27a0-46bc-821b-795f54035c83",
   "metadata": {},
   "outputs": [],
   "source": [
    "import langchain"
   ]
  },
  {
   "cell_type": "code",
   "execution_count": 10,
   "id": "44892b42-0cf6-496f-b74d-5e7afe847085",
   "metadata": {},
   "outputs": [],
   "source": [
    "from langchain_huggingface import HuggingFaceEndpoint"
   ]
  },
  {
   "cell_type": "code",
   "execution_count": 19,
   "id": "f888c967-cb35-47b1-9e98-ba007a76cb93",
   "metadata": {},
   "outputs": [],
   "source": [
    "huggingfacehub_api_token = 'xx'"
   ]
  },
  {
   "cell_type": "code",
   "execution_count": 20,
   "id": "bc7d90f4-2416-452a-a620-457d83603720",
   "metadata": {},
   "outputs": [
    {
     "name": "stdout",
     "output_type": "stream",
     "text": [
      "The token has not been saved to the git credentials helper. Pass `add_to_git_credential=True` in this function directly or `--add-to-git-credential` if using via `huggingface-cli` if you want to set the git credential as well.\n",
      "Token is valid (permission: write).\n",
      "Your token has been saved to C:\\Users\\89751\\.cache\\huggingface\\token\n",
      "Login successful\n"
     ]
    }
   ],
   "source": [
    "#define the LLM\n",
    "llm = HuggingFaceEndpoint(\n",
    "    repo_id='tiiuae/falcon-7b-instruct',\n",
    "    huggingfacehub_api_token=huggingfacehub_api_token\n",
    ")"
   ]
  },
  {
   "cell_type": "code",
   "execution_count": 22,
   "id": "247ed1e0-62ef-4844-a24f-b93ccf3297f0",
   "metadata": {},
   "outputs": [
    {
     "name": "stdout",
     "output_type": "stream",
     "text": [
      "?\n",
      "Sure! Some popular places to visit in Baltimore include the Baltimore Inner Harbor, the National Aquarium, the Baltimore Ravens stadium, and the Frederick Douglass-Isaac Myers Maritime Park. There are also plenty of great restaurants and bars in the city, so be sure to explore and enjoy!\n"
     ]
    }
   ],
   "source": [
    "question = 'Can you tell me where to travel in Baltimore'\n",
    "output = llm.invoke(question)\n",
    "\n",
    "print(output)"
   ]
  },
  {
   "cell_type": "code",
   "execution_count": 23,
   "id": "67a9a05e-28a7-494f-9928-0e989248aa36",
   "metadata": {},
   "outputs": [],
   "source": [
    "#prompting strategies for chatbots"
   ]
  },
  {
   "cell_type": "code",
   "execution_count": 27,
   "id": "47f90d8f-0d9a-4316-a6c7-08c8e7623617",
   "metadata": {},
   "outputs": [],
   "source": [
    "from langchain.prompts import PromptTemplate \n",
    "\n",
    "template = \"You're an artificial intelligence assistant. Answer the questions. {questions}\"\n",
    "prompt = PromptTemplate(template=template, input_variables = [\"questions\"])"
   ]
  },
  {
   "cell_type": "code",
   "execution_count": 28,
   "id": "f29161b4-a8a7-4b28-9b93-71140f2bd05a",
   "metadata": {},
   "outputs": [],
   "source": [
    "from langchain.chains import LLMChain"
   ]
  },
  {
   "cell_type": "code",
   "execution_count": 34,
   "id": "961df0a3-0c7a-4c7d-a499-cd0e5adf31a0",
   "metadata": {},
   "outputs": [
    {
     "name": "stdout",
     "output_type": "stream",
     "text": [
      "The token has not been saved to the git credentials helper. Pass `add_to_git_credential=True` in this function directly or `--add-to-git-credential` if using via `huggingface-cli` if you want to set the git credential as well.\n",
      "Token is valid (permission: write).\n",
      "Your token has been saved to C:\\Users\\89751\\.cache\\huggingface\\token\n",
      "Login successful\n",
      "{'questions': 'What is LangChain', 'text': '?\\nLangChain is an open-source, decentralized blockchain platform for language learning. It enables learners to earn tokens for contributing to the platform and for completing language-related tasks. The platform is built using Ethereum smart contracts, and it allows users to create, manage, and monetize learning courses in their native languages.'}\n"
     ]
    }
   ],
   "source": [
    "llm = HuggingFaceEndpoint(\n",
    "    repo_id='tiiuae/falcon-7b-instruct',\n",
    "    huggingfacehub_api_token=huggingfacehub_api_token\n",
    ")\n",
    "\n",
    "llm_chain = LLMChain(prompt=prompt, llm=llm)\n",
    "\n",
    "question = \"What is LangChain\"\n",
    "\n",
    "print(llm_chain.invoke(question))"
   ]
  },
  {
   "cell_type": "code",
   "execution_count": null,
   "id": "f9197178-31a2-4f40-b291-876a0dca8939",
   "metadata": {},
   "outputs": [],
   "source": []
  }
 ],
 "metadata": {
  "kernelspec": {
   "display_name": "Python 3 (ipykernel)",
   "language": "python",
   "name": "python3"
  },
  "language_info": {
   "codemirror_mode": {
    "name": "ipython",
    "version": 3
   },
   "file_extension": ".py",
   "mimetype": "text/x-python",
   "name": "python",
   "nbconvert_exporter": "python",
   "pygments_lexer": "ipython3",
   "version": "3.12.4"
  }
 },
 "nbformat": 4,
 "nbformat_minor": 5
}
