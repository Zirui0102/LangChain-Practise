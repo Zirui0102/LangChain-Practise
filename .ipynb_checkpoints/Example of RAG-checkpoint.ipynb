{
 "cells": [
  {
   "cell_type": "code",
   "execution_count": 1,
   "id": "dc659808-f398-4f80-bb3e-339c7a010170",
   "metadata": {},
   "outputs": [
    {
     "name": "stdout",
     "output_type": "stream",
     "text": [
      "page_content='focus in recent years [ 12]. The syngas produced from biomass py-\\nrolysis in a special biomass gasi ﬁer is used as intermediate product,\\nand then methanol is synthesized by catalytic conversion [ 13].\\nBiomass is very inexpensive and easy to obtain. Traditionally, waste\\nwood, farm straw, sucrose residue, and rice straw bales have been\\nused as raw materials to produce methanol. In 1990, the National\\nRenewable Energy Laboratory (NREL) in the United States, in\\ncollaboration with other research institutions, built a biomass\\ngasiﬁcation demonstration plant in Hawaii [ 14]. The plant uses\\nsucrose residue as raw material to produce methanol while\\ngenerating electricity and at methanol production rate of 570 kg\\nmethanol/t biomass. The plant has served as a model for the in-\\ndustrial production of methanol from biomass. Now, many BTM\\npilot plants operate around the world [ 15]. BTM systems serve as an\\nimportant means to achieve the high-grade conversion of biomass\\nresources, and BTM systems are anticipated to become an impor-\\ntant industry with broad market prospects due to their remarkable\\neconomic, social and environmental bene ﬁts.\\nIt is currently dif ﬁcult to obtain real data on the market value of\\nconverting biomass to methanol. It is thus essential to identify\\noptimal methods of methanol production by comparing the energyconsumption and environmental impacts of CTM and BTM pro-\\ncesses. Life cycle assessment (LCA) is a means to evaluate the\\noverall environmental impacts of a product or facility “from cradle\\nto grave ”[16e18] and has been widely used in the environmental\\nanalysis of production processes [ 19,20]. Nabavi-Pelesarae et al.\\nconducted an LCA of agricultural activities to provide an environ-\\nmental assessment and advanced planting strategies for crop pro-\\nduction [ 21e23]. LCA has also been applied for the evaluation of\\nmethanol production schemes. Li et al. [ 24] used CML2001 method\\nand Eco-indicator99 model to analyze the life cycle of the CTM\\nprocess. The authors found that the main environmental impacts of\\nmethanol production to be related to utilities. By improving heating\\nand desalination systems, the impact of the process on the envi-\\nronment can be effectively reduced. From a global sensitivity\\nanalysis of CTM processes, Qin et al. [25] found the CTM life cycle to\\nmost signi ﬁcantly affect carbon emissions through power con-\\nsumption and that improving the operation ef ﬁciency of electrical\\nequipment could reduce indirect CO\\n2emissions resulting from\\nelectricity consumption. Through an LCA of methanol production\\nfrom sugarcane bagasse, Maria et al. [ 15] found that due to inputs of\\nfertilizers and pesticides, sugarcane inevitably impacts the envi-\\nronment through the production process. However, the absorption\\nof CO 2into the atmosphere by crops through the growth process\\nweakens climate change impacts of methanol production from\\nsugarcane bagasse. Yang et al. [26] evaluated the impact of straw\\ngasiﬁcation projects on global warming through a dynamic LCA.\\nTheir results show that most greenhouse gases are emitted in the\\noperation and construction stages and that the utilization ef ﬁciency\\nof electricity and steel should be improved to reduce greenhouse\\neffects of such projects.\\nThe purpose of this work is to evaluate CTM and BTM processes\\nvia LCA to determine the main environmental impacts of the two\\nmethanol production methods. In comparing the advantages and\\ndisadvantages of the two methods in terms of energy and envi-\\nronmental impacts, we determine whether BTM processes aremore energy ef ﬁcient and environmentally sustainable than CTM\\nprocesses. First, Aspen Plus commercial software is used to simu-\\nlate the two processes based on the actual production capacity of a\\nplant, and the energy consumption and emissions of methanol\\nproduction processes are in turn obtained. Second, the life cycle\\nenergy consumption (LCEC), global warming potential (GWP),\\nacidiﬁcation potential (AP) and human toxicity potential (HTP) of\\nmethanol production processes are determined using Gabi 9.2\\nsoftware. Data on basic materials are collected from the Gabidatabase. Finally, the results of our LCA are interpreted and stra-\\ntegies of methanol production are proposed. This study offers\\nhelpful insights that can facilitate the sustainable development of\\nthe methanol industry.\\n2. Model and simulation\\nAspen Plus, a commercial simulation software, is used to\\nsimulate CTM and BTM processes. Surplus cotton stalks from rural\\nagricultural activities have become preferred materials for BTM\\nsystems. An approximate element analysis of wheat straw and coal\\nis shown in Table 1 . To compare the results, the production ca-\\npacities of CTM and BTM systems are ﬁxed at 79 t/h.\\nThe CTM and BTM processes can be divided into the following\\nunits: the air separation unit (ASU), raw material pretreatment unit,\\ngasiﬁcation unit, water gas conversion (WGS) unit, acid gas removal\\n(AGR) unit and methanol synthesis and re ﬁning unit. First, the ASU\\nseparates air into high purity N\\n2and O 2for use by the whole\\nmethanol production system. Raw materials (coal or biomass) enter\\nthe gasi ﬁer together with water through drying, crushing and other\\nprocesses. Under high-temperature and high-pressure conditions,\\nthe raw materials quickly react with O 2to generate crude gas with\\nCO and H 2as effective components. Next, the crude gas passes\\nthrough the WGC unit to adjust the CO/H 2ratio and then enters the\\nAGR unit to remove acid gases such as CO 2and H 2S. Finally, the\\npuriﬁed syngas is compressed and fed into the methanol synthesis\\nreactor to synthesize crude methanol under the action of catalysts.\\nAfter the crude methanol passes through the re ﬁning unit, the\\nTable 1\\nKey system design parameters.\\nPARAMETER CTM BTM\\nAir Separation Unit\\nPressure, Mpa 2.3 2.3\\nN2, mol % 99.5 99.5\\nO2, mol % 99.5 99.5\\nGasiﬁcation Unit\\nFeed rate, t/h 120.4 137.6Temperature,\\n/C14C 1450 1050\\nPressure, Mpa 2.0 e4.5 1.8 e2.9\\nCarbon conversion, % 0.95 0.99Water Gas Conversion Unit\\nCO conversion, % 83 83\\nTemperature,\\n/C14C 240 e420 270 e450\\nPressure, Mpa 6.2 6.5Acid Gas Removal UnitType Rectisol RectisolH\\n2S, % 99.9 99.9\\nCO2,% >95 >95\\nMethanol Synthesis Unit\\nH2content in reactor, mol % 67.2 63.0\\nTemperature,/C14C 235 235\\nPressure, Mpa 1.44 1.44Methanol puri ﬁcation unit\\nPre-distillation column\\nStages 30 30Reﬂux ratio 0.7 0.7\\nPressure, Mpa 0.15 0.15\\nHigh pressure distillation columnStages 60 60Reﬂux ratio 2.5 2.5\\nPressure, Mpa 0.85 0.85Atmospheric distillation columnStages 80 80Reﬂux ratio 2.7 2.7\\nPressure, Mpa 0.12 0.12\\nProductionMethanol to material ratio, kg/kg 0.655 0.574Purity of methanol, mol % 99.5 99.5Total methanol production, kg/h 78,981 79,082Y. Liu et al. / Energy 204 (2020) 117961 2' metadata={'source': 'C:/Users/89751/OneDrive/Desktop/test.pdf', 'page': 1}\n"
     ]
    }
   ],
   "source": [
    "#PDF document loader\n",
    "from langchain_community.document_loaders import PyPDFLoader\n",
    "\n",
    "loader = PyPDFLoader(\"C:/Users/89751/OneDrive/Desktop/test.pdf\", extract_images=True)  \n",
    "\n",
    "data = loader.load()  # Load the document\n",
    "print(data[1])"
   ]
  },
  {
   "cell_type": "code",
   "execution_count": 3,
   "id": "c6587b74-b60a-475d-8d6a-5638ef471b21",
   "metadata": {},
   "outputs": [
    {
     "name": "stdout",
     "output_type": "stream",
     "text": [
      "page_content='Methanol products are transported through 300 km of highway\\ntransport. Unlike the CTM process, 9425.96 kg of CH 4is obtained\\nfrom the top of the methanol predistillation column together withother light components.\\n4. LCA results\\n4.1. Evaluation and interpretation\\nFrom the input and output data listed in Table 4 , using GaBi 9.2\\nsoftware, CTM and BTM processes are analyzed via LCA. The LCAresults for the CTM and BTM processes are listed in Table S2 .I t\\nshould be noted that steam and other byproducts generated\\nthrough the process are not re ﬂected in the results.\\nLCEC results are shown in Fig. 3 . In comparing the two pro-\\ncesses, we ﬁnd that under the same production capacity, the LCEC\\nof the CTM process is 1,413,779 MJ, and that of the BTM process is\\n1150620 MJ. The BTM system offers energy consumption advan-\\ntages primarily in S1 while both systems consume similar levels of\\nenergy in the other stages. The LCEC of the CTM system in S1 is 3.04\\ntimes that of the BTM system, as coal mining and processing is\\nmore energy intensive. While to achieve the same level of methanol\\nproduction, biomass used must be of higher quality than that of\\ncoal, but biomass production, collection and processing are rela-\\ntively simple and less energy intensive than coal mining and pro-\\ncessing. On the other hand, more human factors are involved in\\nbiomass production than in coal mining. This facet of energy con-\\nsumption is not considered, partly affecting our results. As more\\ntransportation units are needed to transport biomass, more energy\\nis required to transport biomass than coal. From our analysis of each\\nprocess, S4 consumes the most energy during methanol produc-\\ntion, accounting for 34.2% of energy consumed in the CTM process\\nand 42.5% of energy consumed in the BTM process. Therefore, it is\\nnecessary to carry out relevant research to reduce energy con-\\nsumption during methanol production and puri ﬁcation.\\nAs shown in Fig. 4 , the total GWP value of the BTM process is\\nnegative, showing that the BTM process produces negative GHG\\nemissions through its life cycle. This is to a great extent re ﬂects the\\nenvironmental advantages of the BTM processes. During the\\ngrowth of crops, CO\\n2in the atmosphere is ﬁxed. Most carbon atoms\\nin the biomass are transferred to the produced methanol, and some\\nare discharged in the form of emissions. Throughout this process,Table 4\\nInput and output data of each unit of the CTM and BTM processes.\\nCTM BTM\\nInput Output Input Output\\nS1 Coal mining/Straw production and processing\\nRaw coal\\nFuel coalNatural gasDieselGasolineElectricity133.4 t\\n9004.56 kg86.34 m\\n3\\n72.08 kg66.54 kWh8533.29 kWhCoal\\nCoal cinder\\na120.5 t12.9 tCO\\n2\\nDiesel\\nGasolineElectricityFertilizerLand44.64 t\\n563.42 kg250.4 kg31.3 kWh1.76 t82871 m\\n3Straw 137.6 t\\nTransportation\\nHighway\\nRailway100 km\\n500 kmCoal 120.5 t Highway\\nRailway100 km\\n500 kmStraw 137.6t\\nS2 Pretreatment\\nElectricityFuel gasSteam3583.46 kWh\\n22495.64 MJ549.86 MJCoal\\nAsh\\na120.4 t321.59 kgElectricity 5276.59 kWh Straw\\nAsh\\na137.6 t162.77 kg\\nGasiﬁcation\\nO\\n2\\nElectricity105.8t\\n3237.14 kWhCrude syngas\\nSteam\\nAsha431.06 t\\n189.01 t\\n12.24 tO2\\nElectricity96.05 t\\n6777.95 kWhCrude syngas\\nSteam\\nAsha\\nTara417.63 t\\n132.13 t\\n3.7 t1.33 t\\nS3 WGSþAGR\\nN\\n2\\nElectricitySteam45.36 t\\n716.62 kWh231463.2 MJSyngas\\nH\\n2S\\nCO2a\\nN2a93.13 t\\n729.17 kg169.12 t45.36 tN\\n2\\nElectricity\\nSteam24.21 t\\n386.97 kWh134248.7 MJsyngas\\nH\\n2S\\nCO2a\\nN2a101.8 t\\n52.88 kg92.24 t24.21 t\\nS4 Methanol synthesis and puri ﬁcation\\nElectricitySteam782.79 kWh\\n430773 MJMethanol\\nCO\\n2a\\nCOa\\nVOCa\\nWaste watera78.98 t\\n296.13 kg45.64 kg534.04 kg5004 kgElectricity\\nSteam782.79 kWh\\n436053 MJMethanol\\nCH4CO\\n2a\\nCOa\\nVOCa\\nWaste watera79.08 t\\n9425.96 kg262.68 kg49 kg780.36 kg5210 kg\\nasubstances discharged out of the system.\\nFig. 3. LCEC in the CTM and BTM processes.Y. Liu et al. / Energy 204 (2020) 117961 6' metadata={'source': 'C:/Users/89751/OneDrive/Desktop/test.pdf', 'page': 5}\n"
     ]
    }
   ],
   "source": [
    "#PDF document loader\n",
    "from langchain_community.document_loaders import PyPDFLoader\n",
    "\n",
    "loader = PyPDFLoader(\"C:/Users/89751/OneDrive/Desktop/test.pdf\")  \n",
    "\n",
    "data = loader.load()  # Load the document\n",
    "message = data[5]\n",
    "print(message)  # Print the first document"
   ]
  },
  {
   "cell_type": "code",
   "execution_count": 7,
   "id": "b30c8ec5",
   "metadata": {},
   "outputs": [],
   "source": [
    "import os"
   ]
  },
  {
   "cell_type": "code",
   "execution_count": 4,
   "id": "f32912a9-6ad9-4d50-8849-cc8102d3c37a",
   "metadata": {},
   "outputs": [],
   "source": [
    "from langchain_openai import ChatOpenAI\n",
    "from langchain_core.prompts import ChatPromptTemplate"
   ]
  },
  {
   "cell_type": "code",
   "execution_count": 8,
   "id": "752a95cd-8c63-48f2-8705-6eb68d781275",
   "metadata": {},
   "outputs": [
    {
     "name": "stderr",
     "output_type": "stream",
     "text": [
      "c:\\Software\\Anaconda\\envs\\LangChain\\Lib\\site-packages\\langchain_core\\_api\\deprecation.py:139: LangChainDeprecationWarning: The method `BaseChatModel.__call__` was deprecated in langchain-core 0.1.7 and will be removed in 0.3.0. Use invoke instead.\n",
      "  warn_deprecated(\n"
     ]
    },
    {
     "data": {
      "text/plain": [
       "AIMessage(content='****Table 4\\nInput and output data of each unit of the CTM and BTM processes.\\nCTM BTM\\nInput Output Input Output\\nS1 Coal mining/Straw production and processing\\nRaw coal\\nFuel coalNatural gasDieselGasolineElectricity133.4 t\\n9004.56 kg86.34 m\\n3\\n72.08 kg66.54 kWh8533.29 kWhCoal\\nCoal cinder\\na120.5 t12.9 tCO\\n2\\nDiesel\\nGasolineElectricityFertilizerLand44.64 t\\n563.42 kg250.4 kg31.3 kWh1.76 t82871 m\\n3Straw 137.6 t\\nTransportation\\nHighway\\nRailway100 km\\n500 kmCoal 120.5 t Highway\\nRailway100 km\\n500 kmStraw 137.6t\\nS2 Pretreatment\\nElectricityFuel gasSteam3583.46 kWh\\n22495.64 MJ549.86 MJCoal\\nAsh\\na120.4 t321.59 kgElectricity 5276.59 kWh Straw\\nAsh\\na137.6 t162.77 kg\\nGasiﬁcation\\nO\\n2\\nElectricity105.8t\\n3237.14 kWhCrude syngas\\nSteam\\nAsha431.06 t\\n189.01 t\\n12.24 tO2\\nElectricity96.05 t\\n6777.95 kWhCrude syngas\\nSteam\\nAsha\\nTara417.63 t\\n132.13 t\\n3.7 t1.33 t\\nS3 WGSþAGR\\nN\\n2\\nElectricitySteam45.36 t\\n716.62 kWh231463.2 MJSyngas\\nH\\n2S\\nCO2a\\nN2a93.13 t\\n729.17 kg169.12 t45.36 tN\\n2\\nElectricity\\nSteam24.21 t\\n386.97 kWh134248.7 MJsyngas\\nH\\n2S\\nCO2a\\nN2a101.8 t\\n52.88 kg92.24 t24.21 t\\nS4 Methanol synthesis and puri ﬁcation\\nElectricitySteam782.79 kWh\\n430773 MJMethanol\\nCO\\n2a\\nCOa\\nVOCa\\nWaste watera78.98 t\\n296.13 kg45.64 kg534.04 kg5004 kgElectricity\\nSteam782.79 kWh\\n436053 MJMethanol\\nCH4CO\\n2a\\nCOa\\nVOCa\\nWaste watera79.08 t\\n9425.96 kg262.68 kg49 kg780.36 kg5210 kg\\nasubstances discharged out of the system.\\nFig. 3. LCEC in the CTM and BTM processes.\\nY. Liu et al. / Energy 204 (2020) 117961 6\\n****', response_metadata={'token_usage': {'completion_tokens': 625, 'prompt_tokens': 1284, 'total_tokens': 1909}, 'model_name': 'gpt-3.5-turbo', 'system_fingerprint': None, 'finish_reason': 'stop', 'logprobs': None}, id='run-feb1bc33-fa70-44fc-99ad-bf8966a2de2c-0', usage_metadata={'input_tokens': 1284, 'output_tokens': 625, 'total_tokens': 1909})"
      ]
     },
     "execution_count": 8,
     "metadata": {},
     "output_type": "execute_result"
    }
   ],
   "source": [
    "# Set your API Key from OpenAI\n",
    "openai_api_key= os.environ.get(\"OPENAI_API_KEY\")\n",
    "\n",
    "# Define an OpenAI chat model\n",
    "llm = ChatOpenAI(temperature=0, openai_api_key=openai_api_key)\t\t\n",
    "\n",
    "# Create a chat prompt template\n",
    "prompt_template = ChatPromptTemplate.from_messages(\n",
    "    [\n",
    "        (\"system\", \"You are a helpful assistant.\"),\n",
    "        (\"human\", \"Respond to question: {question}\")\n",
    "    ]\n",
    ")\n",
    "\n",
    "# Insert a question into the template and call the model\n",
    "table_number = 4\n",
    "message_text = message\n",
    "\n",
    "full_prompt = prompt_template.format_messages(question=f'Extract the table [{table_number}] from: {message_text}. Add **** at the begin and end of the extracted data')\n",
    "response = llm(full_prompt)\n",
    "response"
   ]
  },
  {
   "cell_type": "code",
   "execution_count": 10,
   "id": "f689e880-b47f-47e4-8182-47ea40809974",
   "metadata": {},
   "outputs": [],
   "source": [
    "text = response.content"
   ]
  },
  {
   "cell_type": "code",
   "execution_count": 11,
   "id": "86b43ca3-307a-4959-89d9-d6d8bcce4c71",
   "metadata": {},
   "outputs": [
    {
     "data": {
      "text/plain": [
       "'****Table 4\\nInput and output data of each unit of the CTM and BTM processes.\\nCTM BTM\\nInput Output Input Output\\nS1 Coal mining/Straw production and processing\\nRaw coal\\nFuel coalNatural gasDieselGasolineElectricity133.4 t\\n9004.56 kg86.34 m\\n3\\n72.08 kg66.54 kWh8533.29 kWhCoal\\nCoal cinder\\na120.5 t12.9 tCO\\n2\\nDiesel\\nGasolineElectricityFertilizerLand44.64 t\\n563.42 kg250.4 kg31.3 kWh1.76 t82871 m\\n3Straw 137.6 t\\nTransportation\\nHighway\\nRailway100 km\\n500 kmCoal 120.5 t Highway\\nRailway100 km\\n500 kmStraw 137.6t\\nS2 Pretreatment\\nElectricityFuel gasSteam3583.46 kWh\\n22495.64 MJ549.86 MJCoal\\nAsh\\na120.4 t321.59 kgElectricity 5276.59 kWh Straw\\nAsh\\na137.6 t162.77 kg\\nGasiﬁcation\\nO\\n2\\nElectricity105.8t\\n3237.14 kWhCrude syngas\\nSteam\\nAsha431.06 t\\n189.01 t\\n12.24 tO2\\nElectricity96.05 t\\n6777.95 kWhCrude syngas\\nSteam\\nAsha\\nTara417.63 t\\n132.13 t\\n3.7 t1.33 t\\nS3 WGSþAGR\\nN\\n2\\nElectricitySteam45.36 t\\n716.62 kWh231463.2 MJSyngas\\nH\\n2S\\nCO2a\\nN2a93.13 t\\n729.17 kg169.12 t45.36 tN\\n2\\nElectricity\\nSteam24.21 t\\n386.97 kWh134248.7 MJsyngas\\nH\\n2S\\nCO2a\\nN2a101.8 t\\n52.88 kg92.24 t24.21 t\\nS4 Methanol synthesis and puri ﬁcation\\nElectricitySteam782.79 kWh\\n430773 MJMethanol\\nCO\\n2a\\nCOa\\nVOCa\\nWaste watera78.98 t\\n296.13 kg45.64 kg534.04 kg5004 kgElectricity\\nSteam782.79 kWh\\n436053 MJMethanol\\nCH4CO\\n2a\\nCOa\\nVOCa\\nWaste watera79.08 t\\n9425.96 kg262.68 kg49 kg780.36 kg5210 kg\\nasubstances discharged out of the system.\\nFig. 3. LCEC in the CTM and BTM processes.\\nY. Liu et al. / Energy 204 (2020) 117961 6\\n****'"
      ]
     },
     "execution_count": 11,
     "metadata": {},
     "output_type": "execute_result"
    }
   ],
   "source": [
    "text"
   ]
  },
  {
   "cell_type": "code",
   "execution_count": 12,
   "id": "be8681b4-b734-44b8-a15d-7931fcece587",
   "metadata": {},
   "outputs": [],
   "source": [
    "import re"
   ]
  },
  {
   "cell_type": "code",
   "execution_count": 13,
   "id": "b2fded4a-504a-4966-899d-bcc0581cbc6e",
   "metadata": {},
   "outputs": [
    {
     "data": {
      "text/plain": [
       "'****Table 4\\nInput and output data of each unit of the CTM and BTM processes.\\nCTM BTM\\nInput Output Input Output\\nS1 Coal mining/Straw production and processing\\nRaw coal\\nFuel coalNatural gasDieselGasolineElectricity133.4 t\\n9004.56 kg86.34 m\\n3\\n72.08 kg66.54 kWh8533.29 kWhCoal\\nCoal cinder\\na120.5 t12.9 tCO\\n2\\nDiesel\\nGasolineElectricityFertilizerLand44.64 t\\n563.42 kg250.4 kg31.3 kWh1.76 t82871 m\\n3Straw 137.6 t\\nTransportation\\nHighway\\nRailway100 km\\n500 kmCoal 120.5 t Highway\\nRailway100 km\\n500 kmStraw 137.6t\\nS2 Pretreatment\\nElectricityFuel gasSteam3583.46 kWh\\n22495.64 MJ549.86 MJCoal\\nAsh\\na120.4 t321.59 kgElectricity 5276.59 kWh Straw\\nAsh\\na137.6 t162.77 kg\\nGasiﬁcation\\nO\\n2\\nElectricity105.8t\\n3237.14 kWhCrude syngas\\nSteam\\nAsha431.06 t\\n189.01 t\\n12.24 tO2\\nElectricity96.05 t\\n6777.95 kWhCrude syngas\\nSteam\\nAsha\\nTara417.63 t\\n132.13 t\\n3.7 t1.33 t\\nS3 WGSþAGR\\nN\\n2\\nElectricitySteam45.36 t\\n716.62 kWh231463.2 MJSyngas\\nH\\n2S\\nCO2a\\nN2a93.13 t\\n729.17 kg169.12 t45.36 tN\\n2\\nElectricity\\nSteam24.21 t\\n386.97 kWh134248.7 MJsyngas\\nH\\n2S\\nCO2a\\nN2a101.8 t\\n52.88 kg92.24 t24.21 t\\nS4 Methanol synthesis and puri ﬁcation\\nElectricitySteam782.79 kWh\\n430773 MJMethanol\\nCO\\n2a\\nCOa\\nVOCa\\nWaste watera78.98 t\\n296.13 kg45.64 kg534.04 kg5004 kgElectricity\\nSteam782.79 kWh\\n436053 MJMethanol\\nCH4CO\\n2a\\nCOa\\nVOCa\\nWaste watera79.08 t\\n9425.96 kg262.68 kg49 kg780.36 kg5210 kg\\nasubstances discharged out of the system.\\nFig. 3. LCEC in the CTM and BTM processes.\\nY. Liu et al. / Energy 204 (2020) 117961 6\\n****'"
      ]
     },
     "execution_count": 13,
     "metadata": {},
     "output_type": "execute_result"
    }
   ],
   "source": [
    "text"
   ]
  },
  {
   "cell_type": "code",
   "execution_count": 14,
   "id": "39b149bf-8e6c-4ac1-b733-d634c0878f5f",
   "metadata": {},
   "outputs": [
    {
     "name": "stdout",
     "output_type": "stream",
     "text": [
      "Table 4\n",
      "Input and output data of each unit of the CTM and BTM processes.\n",
      "CTM BTM\n",
      "Input Output Input Output\n",
      "S1 Coal mining/Straw production and processing\n",
      "Raw coal\n",
      "Fuel coalNatural gasDieselGasolineElectricity133.4 t\n",
      "9004.56 kg86.34 m\n",
      "3\n",
      "72.08 kg66.54 kWh8533.29 kWhCoal\n",
      "Coal cinder\n",
      "a120.5 t12.9 tCO\n",
      "2\n",
      "Diesel\n",
      "GasolineElectricityFertilizerLand44.64 t\n",
      "563.42 kg250.4 kg31.3 kWh1.76 t82871 m\n",
      "3Straw 137.6 t\n",
      "Transportation\n",
      "Highway\n",
      "Railway100 km\n",
      "500 kmCoal 120.5 t Highway\n",
      "Railway100 km\n",
      "500 kmStraw 137.6t\n",
      "S2 Pretreatment\n",
      "ElectricityFuel gasSteam3583.46 kWh\n",
      "22495.64 MJ549.86 MJCoal\n",
      "Ash\n",
      "a120.4 t321.59 kgElectricity 5276.59 kWh Straw\n",
      "Ash\n",
      "a137.6 t162.77 kg\n",
      "Gasiﬁcation\n",
      "O\n",
      "2\n",
      "Electricity105.8t\n",
      "3237.14 kWhCrude syngas\n",
      "Steam\n",
      "Asha431.06 t\n",
      "189.01 t\n",
      "12.24 tO2\n",
      "Electricity96.05 t\n",
      "6777.95 kWhCrude syngas\n",
      "Steam\n",
      "Asha\n",
      "Tara417.63 t\n",
      "132.13 t\n",
      "3.7 t1.33 t\n",
      "S3 WGSþAGR\n",
      "N\n",
      "2\n",
      "ElectricitySteam45.36 t\n",
      "716.62 kWh231463.2 MJSyngas\n",
      "H\n",
      "2S\n",
      "CO2a\n",
      "N2a93.13 t\n",
      "729.17 kg169.12 t45.36 tN\n",
      "2\n",
      "Electricity\n",
      "Steam24.21 t\n",
      "386.97 kWh134248.7 MJsyngas\n",
      "H\n",
      "2S\n",
      "CO2a\n",
      "N2a101.8 t\n",
      "52.88 kg92.24 t24.21 t\n",
      "S4 Methanol synthesis and puri ﬁcation\n",
      "ElectricitySteam782.79 kWh\n",
      "430773 MJMethanol\n",
      "CO\n",
      "2a\n",
      "COa\n",
      "VOCa\n",
      "Waste watera78.98 t\n",
      "296.13 kg45.64 kg534.04 kg5004 kgElectricity\n",
      "Steam782.79 kWh\n",
      "436053 MJMethanol\n",
      "CH4CO\n",
      "2a\n",
      "COa\n",
      "VOCa\n",
      "Waste watera79.08 t\n",
      "9425.96 kg262.68 kg49 kg780.36 kg5210 kg\n",
      "asubstances discharged out of the system.\n",
      "Fig. 3. LCEC in the CTM and BTM processes.\n",
      "Y. Liu et al. / Energy 204 (2020) 117961 6\n"
     ]
    }
   ],
   "source": [
    "pattern = r'\\*\\*\\*\\*(.*?)\\*\\*\\*\\*'\n",
    "result = re.search(pattern, text, re.DOTALL)\n",
    "\n",
    "if result:\n",
    "    extracted_text = result.group(1).strip()\n",
    "    print(extracted_text)\n",
    "else:\n",
    "    print(\"No text found between the markers\")"
   ]
  }
 ],
 "metadata": {
  "kernelspec": {
   "display_name": "Python 3 (ipykernel)",
   "language": "python",
   "name": "python3"
  },
  "language_info": {
   "codemirror_mode": {
    "name": "ipython",
    "version": 3
   },
   "file_extension": ".py",
   "mimetype": "text/x-python",
   "name": "python",
   "nbconvert_exporter": "python",
   "pygments_lexer": "ipython3",
   "version": "3.12.4"
  }
 },
 "nbformat": 4,
 "nbformat_minor": 5
}
